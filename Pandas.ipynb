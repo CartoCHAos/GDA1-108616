{
 "cells": [
  {
   "cell_type": "markdown",
   "id": "116f0d32",
   "metadata": {},
   "source": [
    "####Introducing Panda"
   ]
  },
  {
   "cell_type": "markdown",
   "id": "869ea4d6",
   "metadata": {},
   "source": [
    "![(Panda picture)](Pandas.webp)\n"
   ]
  }
 ],
 "metadata": {
  "kernelspec": {
   "display_name": ".venv",
   "language": "python",
   "name": "python3"
  },
  "language_info": {
   "name": "python",
   "version": "3.12.7"
  }
 },
 "nbformat": 4,
 "nbformat_minor": 5
}
